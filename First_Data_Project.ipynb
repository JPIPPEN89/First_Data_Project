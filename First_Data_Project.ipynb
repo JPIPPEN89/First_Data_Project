{
 "cells": [
  {
   "cell_type": "code",
   "execution_count": 98,
   "id": "ebb473e1-e141-4a73-95ba-d42fd14165d4",
   "metadata": {},
   "outputs": [],
   "source": [
    "import pandas as pd\n",
    "import numpy as np\n",
    "import matplotlib.pyplot as plt\n",
    "\n"
   ]
  },
  {
   "cell_type": "code",
   "execution_count": 88,
   "id": "03ef0f0c-f911-49d7-97a4-194036d80b6c",
   "metadata": {},
   "outputs": [],
   "source": [
    "df = pd.read_csv('C:/mydata/Order_earnings_ebay.csv')\n",
    "df.columns = df.iloc[14]\n",
    "df= df.drop(index=range(0,15))\n",
    "df\n",
    "\n",
    "#Change to numeric and drops any unecessary symbols and convert to Float\n",
    "df['Order earnings'] = pd.to_numeric(\n",
    "    df['Order earnings'].str.replace(r'[^\\d.]', '', regex=True)\n",
    ")"
   ]
  },
  {
   "cell_type": "code",
   "execution_count": 89,
   "id": "eab81bf1-3066-4c90-9821-1d71859285e7",
   "metadata": {},
   "outputs": [
    {
     "data": {
      "text/html": [
       "<div>\n",
       "<style scoped>\n",
       "    .dataframe tbody tr th:only-of-type {\n",
       "        vertical-align: middle;\n",
       "    }\n",
       "\n",
       "    .dataframe tbody tr th {\n",
       "        vertical-align: top;\n",
       "    }\n",
       "\n",
       "    .dataframe thead th {\n",
       "        text-align: right;\n",
       "    }\n",
       "</style>\n",
       "<table border=\"1\" class=\"dataframe\">\n",
       "  <thead>\n",
       "    <tr style=\"text-align: right;\">\n",
       "      <th></th>\n",
       "      <th>Count</th>\n",
       "    </tr>\n",
       "    <tr>\n",
       "      <th>States Shipped</th>\n",
       "      <th></th>\n",
       "    </tr>\n",
       "  </thead>\n",
       "  <tbody>\n",
       "    <tr>\n",
       "      <th>TX</th>\n",
       "      <td>12</td>\n",
       "    </tr>\n",
       "    <tr>\n",
       "      <th>NY</th>\n",
       "      <td>8</td>\n",
       "    </tr>\n",
       "    <tr>\n",
       "      <th>CA</th>\n",
       "      <td>8</td>\n",
       "    </tr>\n",
       "    <tr>\n",
       "      <th>PA</th>\n",
       "      <td>7</td>\n",
       "    </tr>\n",
       "    <tr>\n",
       "      <th>FL</th>\n",
       "      <td>7</td>\n",
       "    </tr>\n",
       "    <tr>\n",
       "      <th>OH</th>\n",
       "      <td>6</td>\n",
       "    </tr>\n",
       "    <tr>\n",
       "      <th>NJ</th>\n",
       "      <td>5</td>\n",
       "    </tr>\n",
       "    <tr>\n",
       "      <th>GA</th>\n",
       "      <td>5</td>\n",
       "    </tr>\n",
       "    <tr>\n",
       "      <th>OK</th>\n",
       "      <td>5</td>\n",
       "    </tr>\n",
       "    <tr>\n",
       "      <th>SC</th>\n",
       "      <td>5</td>\n",
       "    </tr>\n",
       "    <tr>\n",
       "      <th>VA</th>\n",
       "      <td>4</td>\n",
       "    </tr>\n",
       "    <tr>\n",
       "      <th>KS</th>\n",
       "      <td>4</td>\n",
       "    </tr>\n",
       "    <tr>\n",
       "      <th>AZ</th>\n",
       "      <td>4</td>\n",
       "    </tr>\n",
       "    <tr>\n",
       "      <th>MD</th>\n",
       "      <td>4</td>\n",
       "    </tr>\n",
       "    <tr>\n",
       "      <th>IL</th>\n",
       "      <td>3</td>\n",
       "    </tr>\n",
       "    <tr>\n",
       "      <th>MO</th>\n",
       "      <td>3</td>\n",
       "    </tr>\n",
       "    <tr>\n",
       "      <th>MI</th>\n",
       "      <td>3</td>\n",
       "    </tr>\n",
       "    <tr>\n",
       "      <th>OR</th>\n",
       "      <td>2</td>\n",
       "    </tr>\n",
       "    <tr>\n",
       "      <th>DE</th>\n",
       "      <td>2</td>\n",
       "    </tr>\n",
       "    <tr>\n",
       "      <th>WI</th>\n",
       "      <td>2</td>\n",
       "    </tr>\n",
       "    <tr>\n",
       "      <th>AL</th>\n",
       "      <td>2</td>\n",
       "    </tr>\n",
       "    <tr>\n",
       "      <th>CT</th>\n",
       "      <td>2</td>\n",
       "    </tr>\n",
       "    <tr>\n",
       "      <th>MS</th>\n",
       "      <td>2</td>\n",
       "    </tr>\n",
       "    <tr>\n",
       "      <th>IA</th>\n",
       "      <td>2</td>\n",
       "    </tr>\n",
       "    <tr>\n",
       "      <th>MA</th>\n",
       "      <td>2</td>\n",
       "    </tr>\n",
       "    <tr>\n",
       "      <th>NC</th>\n",
       "      <td>2</td>\n",
       "    </tr>\n",
       "    <tr>\n",
       "      <th>WA</th>\n",
       "      <td>1</td>\n",
       "    </tr>\n",
       "    <tr>\n",
       "      <th>ME</th>\n",
       "      <td>1</td>\n",
       "    </tr>\n",
       "    <tr>\n",
       "      <th>CO</th>\n",
       "      <td>1</td>\n",
       "    </tr>\n",
       "    <tr>\n",
       "      <th>AR</th>\n",
       "      <td>1</td>\n",
       "    </tr>\n",
       "    <tr>\n",
       "      <th>RI</th>\n",
       "      <td>1</td>\n",
       "    </tr>\n",
       "    <tr>\n",
       "      <th>MT</th>\n",
       "      <td>1</td>\n",
       "    </tr>\n",
       "    <tr>\n",
       "      <th>WV</th>\n",
       "      <td>1</td>\n",
       "    </tr>\n",
       "    <tr>\n",
       "      <th>KY</th>\n",
       "      <td>1</td>\n",
       "    </tr>\n",
       "    <tr>\n",
       "      <th>ID</th>\n",
       "      <td>1</td>\n",
       "    </tr>\n",
       "    <tr>\n",
       "      <th>IN</th>\n",
       "      <td>1</td>\n",
       "    </tr>\n",
       "    <tr>\n",
       "      <th>TN</th>\n",
       "      <td>1</td>\n",
       "    </tr>\n",
       "  </tbody>\n",
       "</table>\n",
       "</div>"
      ],
      "text/plain": [
       "                Count\n",
       "States Shipped       \n",
       "TX                 12\n",
       "NY                  8\n",
       "CA                  8\n",
       "PA                  7\n",
       "FL                  7\n",
       "OH                  6\n",
       "NJ                  5\n",
       "GA                  5\n",
       "OK                  5\n",
       "SC                  5\n",
       "VA                  4\n",
       "KS                  4\n",
       "AZ                  4\n",
       "MD                  4\n",
       "IL                  3\n",
       "MO                  3\n",
       "MI                  3\n",
       "OR                  2\n",
       "DE                  2\n",
       "WI                  2\n",
       "AL                  2\n",
       "CT                  2\n",
       "MS                  2\n",
       "IA                  2\n",
       "MA                  2\n",
       "NC                  2\n",
       "WA                  1\n",
       "ME                  1\n",
       "CO                  1\n",
       "AR                  1\n",
       "RI                  1\n",
       "MT                  1\n",
       "WV                  1\n",
       "KY                  1\n",
       "ID                  1\n",
       "IN                  1\n",
       "TN                  1"
      ]
     },
     "execution_count": 89,
     "metadata": {},
     "output_type": "execute_result"
    }
   ],
   "source": [
    "state_max = pd.DataFrame(df['Ship to province/region/state'].value_counts())\n",
    "state_max.rename(columns={'count': 'Count'}, inplace= True)\n",
    "\n",
    "state_max.index.name = 'States Shipped'\n",
    "state_max\n"
   ]
  },
  {
   "cell_type": "code",
   "execution_count": 123,
   "id": "29fa5949-a707-46c0-8d23-3c81e9b63af0",
   "metadata": {},
   "outputs": [
    {
     "data": {
      "text/plain": [
       "<Figure size 1200x600 with 0 Axes>"
      ]
     },
     "metadata": {},
     "output_type": "display_data"
    },
    {
     "data": {
      "image/png": "[encoded data removed]",
      "text/plain": [
       "<Figure size 640x480 with 1 Axes>"
      ]
     },
     "metadata": {},
     "output_type": "display_data"
    }
   ],
   "source": [
    "plt.figure(figsize=(12,6))\n",
    "state_max.plot(kind='bar', color='skyblue')\n",
    "\n",
    "plt.title('Orders by State')\n",
    "plt.xlabel('States')\n",
    "plt.ylabel('Number of Orders')\n",
    "\n",
    "plt.xticks(rotation=90, ha='right')\n",
    "\n",
    "#plt.tight_layout()\n",
    "plt.show()\n"
   ]
  },
  {
   "cell_type": "code",
   "execution_count": 115,
   "id": "846112df-1027-43a3-a1cb-acfc55a5a23d",
   "metadata": {},
   "outputs": [],
   "source": [
    "#Grouping data together that is rlevant\n",
    "grouped = df.groupby('Ship to province/region/state')['Order earnings'].sum()"
   ]
  },
  {
   "cell_type": "code",
   "execution_count": 91,
   "id": "f1007f86-c445-414b-839e-f0a679ba7224",
   "metadata": {},
   "outputs": [
    {
     "data": {
      "text/plain": [
       "Ship to province/region/state\n",
       "AL     80.96\n",
       "AR     12.47\n",
       "AZ    123.82\n",
       "CA    227.53\n",
       "CO      0.05\n",
       "CT     29.63\n",
       "DE    107.37\n",
       "FL    160.96\n",
       "GA    234.16\n",
       "IA     75.75\n",
       "ID     24.55\n",
       "IL     85.20\n",
       "IN     23.43\n",
       "KS     56.43\n",
       "KY     40.38\n",
       "MA     39.01\n",
       "MD    276.39\n",
       "ME      5.79\n",
       "MI     55.65\n",
       "MO     57.79\n",
       "MS     57.57\n",
       "MT     46.00\n",
       "NC     23.58\n",
       "NJ    284.06\n",
       "NY    262.22\n",
       "OH    188.91\n",
       "OK     99.72\n",
       "OR     30.09\n",
       "PA    251.00\n",
       "RI     23.05\n",
       "SC    225.22\n",
       "TN     24.16\n",
       "TX    415.51\n",
       "VA    186.34\n",
       "WA     12.05\n",
       "WI     35.07\n",
       "WV     11.44\n",
       "Name: Order earnings, dtype: float64"
      ]
     },
     "execution_count": 91,
     "metadata": {},
     "output_type": "execute_result"
    }
   ],
   "source": [
    "grouped"
   ]
  },
  {
   "cell_type": "code",
   "execution_count": 102,
   "id": "158cd405-9f9d-4abc-9897-30213e0e554e",
   "metadata": {},
   "outputs": [
    {
     "data": {
      "image/png": "[encoded data removed]",
      "text/plain": [
       "<Figure size 1000x600 with 1 Axes>"
      ]
     },
     "metadata": {},
     "output_type": "display_data"
    }
   ],
   "source": [
    "plt.figure(figsize=(10, 6))  # Set the figure size\n",
    "grouped.plot(kind='bar', color='skyblue')  # Bar plot with skyblue color\n",
    "\n",
    "# Add titles and labels\n",
    "plt.title('Total Order Earnings by State')\n",
    "plt.xlabel('States')\n",
    "plt.ylabel('Total Order Earnings')\n",
    "\n",
    "# Rotate the x-axis labels for better readability\n",
    "plt.xticks(rotation=45, ha='right')\n",
    "\n",
    "# Display the plot\n",
    "plt.tight_layout()  # Adjust layout to fit all labels\n",
    "plt.show()"
   ]
  },
  {
   "cell_type": "code",
   "execution_count": 109,
   "id": "47587439-0a20-4011-b4b1-d930207548a6",
   "metadata": {},
   "outputs": [],
   "source": [
    "df['Expenses'] = pd.to_numeric(df['Expenses'].str.replace(r'[^\\d.]', '', regex=True))\n"
   ]
  },
  {
   "cell_type": "code",
   "execution_count": 111,
   "id": "0e90c7ae-fcd3-4958-a7c6-fb832ff7a1b6",
   "metadata": {},
   "outputs": [
    {
     "name": "stdout",
     "output_type": "stream",
     "text": [
      "Total Expenses:\t2705.09\n",
      "Total Earnings:\t3893.31\n"
     ]
    }
   ],
   "source": [
    "total_expenses = df['Expenses'].sum()\n",
    "print(f\"Total Expenses:\\t{total_expenses}\")\n",
    "order_earnings = df['Order earnings'].sum()\n",
    "print(f\"Total Earnings:\\t{round(order_earnings, 2)}\")\n",
    "total_profit = "
   ]
  },
  {
   "cell_type": "code",
   "execution_count": null,
   "id": "869f3909-3987-496b-ae85-0dfb893d02ff",
   "metadata": {},
   "outputs": [],
   "source": []
  }
 ],
 "metadata": {
  "kernelspec": {
   "display_name": "Python 3 (ipykernel)",
   "language": "python",
   "name": "python3"
  },
  "language_info": {
   "codemirror_mode": {
    "name": "ipython",
    "version": 3
   },
   "file_extension": ".py",
   "mimetype": "text/x-python",
   "name": "python",
   "nbconvert_exporter": "python",
   "pygments_lexer": "ipython3",
   "version": "3.13.1"
  }
 },
 "nbformat": 4,
 "nbformat_minor": 5
}
